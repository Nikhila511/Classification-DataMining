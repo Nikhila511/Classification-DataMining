{
 "cells": [
  {
   "cell_type": "code",
   "execution_count": 13,
   "metadata": {},
   "outputs": [
    {
     "name": "stdout",
     "output_type": "stream",
     "text": [
      "full data  (569, 31)\n",
      "train  (512, 31)\n",
      "test  (57, 31)\n",
      "[[-0.25058315 -0.22864232  0.04953599 ... -0.30428088 -0.30479652\n",
      "  -0.30227378]\n",
      " [-0.23656278 -0.215294    0.22231943 ... -0.31543071 -0.31722448\n",
      "  -0.31149435]\n",
      " [-0.23466138 -0.14934581  0.37784559 ... -0.34218352 -0.34439397\n",
      "  -0.3450813 ]\n",
      " ...\n",
      " [-0.24073548 -0.22114805  0.13730199 ... -0.30755344 -0.30882837\n",
      "  -0.30493874]\n",
      " [-0.24401592 -0.22112302  0.09595248 ... -0.3058079  -0.30640528\n",
      "  -0.30318797]\n",
      " [-0.23053504 -0.2070971   0.28190715 ... -0.32346065 -0.32491279\n",
      "  -0.32553269]]\n"
     ]
    }
   ],
   "source": [
    "import numpy as np\n",
    "import sys\n",
    "from scipy.spatial import distance\n",
    "from sklearn.decomposition import PCA\n",
    "import pandas as pd\n",
    "import matplotlib.pyplot as plt\n",
    "from scipy import stats\n",
    "\n",
    "np.set_printoptions(suppress=True) #prevent numpy exponential \n",
    "\n",
    "#Read data and convert unstructured data to structured.\n",
    "def read_data(file):\n",
    "    nominal = dict()\n",
    "    gene_data = open(file)\n",
    "    gene_seq = gene_data.readlines()\n",
    "    all_genes_list = []\n",
    "    first_row = gene_seq[0].split(\"\\t\")\n",
    "    for f in range(len(first_row)):\n",
    "        try:\n",
    "            float(first_row[f])\n",
    "        except:\n",
    "            nominal[f] = []\n",
    "    for line in gene_seq:\n",
    "        gene = line.strip().split(\"\\t\")\n",
    "        for f in range(len(gene)):\n",
    "            try:\n",
    "                gene[f] = float(gene[f])\n",
    "            except:\n",
    "                category = nominal[f]\n",
    "                if gene[f] in category:\n",
    "                    gene[f] = float(category.index(gene[f]))\n",
    "                else:\n",
    "                    category.append(gene[f])\n",
    "                    gene[f] = float(category.index(gene[f]))\n",
    "        all_genes_list.append(gene)\n",
    "    return np.asarray(all_genes_list, dtype = float)\n",
    "\n",
    "def normalise(data):\n",
    "    return stats.zscore(data, axis=1)\n",
    "\n",
    "data = read_data(\"project3_dataset1.txt\")\n",
    "normalised_data = normalise(data)\n",
    "#Adopting 10-fold Cross validation for splitting data set to train and test sets\n",
    "rows = normalised_data.shape[0]\n",
    "print(\"full data \", normalised_data.shape)\n",
    "train_rows = int(0.9*rows)\n",
    "test_rows = rows - train_rows\n",
    "train_data = normalised_data[0:train_rows,:]\n",
    "test_data = normalised_data[train_rows:,:]\n",
    "print(\"train \",train_data.shape)\n",
    "print(\"test \",test_data.shape)\n",
    "print(train_data)"
   ]
  },
  {
   "cell_type": "code",
   "execution_count": null,
   "metadata": {},
   "outputs": [],
   "source": []
  }
 ],
 "metadata": {
  "kernelspec": {
   "display_name": "Python 3",
   "language": "python",
   "name": "python3"
  },
  "language_info": {
   "codemirror_mode": {
    "name": "ipython",
    "version": 3
   },
   "file_extension": ".py",
   "mimetype": "text/x-python",
   "name": "python",
   "nbconvert_exporter": "python",
   "pygments_lexer": "ipython3",
   "version": "3.6.4"
  }
 },
 "nbformat": 4,
 "nbformat_minor": 2
}
